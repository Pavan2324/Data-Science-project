{
 "cells": [
  {
   "cell_type": "markdown",
   "metadata": {},
   "source": [
    "\n",
    "# PROBLEM DESCRIPTION\n",
    "\n",
    "### Q) Analyze the dataset \"Uber Pickups in the New York City - July 2014\" \n",
    "\n",
    "Dataset acquired from Kaggle: https://www.kaggle.com/fivethirtyeight/uber-pickups-in-new-york-city?select=uber-raw-data-jul14.csv<br>\n",
    "Dataset Name:   **uber-raw-data-jul14.csv**\n",
    "\n",
    "**If the dataset is not present in the root directory of this notebook, please download it from the kaggle link above**\n",
    "\n",
    "\n",
    "### Details of the dataset:\n",
    "##### The dataset contains information about the Datetime, Latitude, Longitude and Base of each uber ride that happened in the month of July 2014 at New York City, USA\n",
    "\n",
    "Date/Time : The date and time of the Uber pickup<br>\n",
    "Lat : The latitude of the Uber pickup<br>\n",
    "Lon : The longitude of the Uber pickup<br>\n",
    "Base : The TLC base company code affiliated with the Uber pickup<br>\n",
    "\n",
    "The Base codes are for the following Uber bases:<br>\n",
    "B02512 : Unter<br>\n",
    "B02598 : Hinter<br>\n",
    "B02617 : Weiter<br>\n",
    "B02682 : Schmecken<br>\n",
    "B02764 : Danach-NY<br>"
   ]
  },
  {
   "cell_type": "markdown",
   "metadata": {},
   "source": [
    "#### Run the cell below to meet the library requirements (Shell Command)"
   ]
  },
  {
   "cell_type": "code",
   "execution_count": null,
   "metadata": {
    "execution": {
     "iopub.execute_input": "2021-05-26T09:19:18.727537Z",
     "iopub.status.busy": "2021-05-26T09:19:18.727297Z",
     "iopub.status.idle": "2021-05-26T09:19:25.643639Z",
     "shell.execute_reply": "2021-05-26T09:19:25.642416Z",
     "shell.execute_reply.started": "2021-05-26T09:19:18.727511Z"
    }
   },
   "outputs": [],
   "source": [
    "#The following libraries are required to run this notebook\n",
    "\n",
    "%matplotlib inline\n",
    "import numpy as np\n",
    "import pandas as pd\n",
    "import matplotlib.pyplot as plt\n",
    "import matplotlib\n",
    "import seaborn as sns\n",
    "import geopy.distance\n",
    "from math import radians,cos,sin,asin,sqrt\n",
    "import folium\n",
    "import datetime\n",
    "from folium.plugins import HeatMap\n",
    "from scipy.stats import ttest_ind\n",
    "\n",
    "matplotlib.rcParams.update({'font.size': 12})"
   ]
  },
  {
   "cell_type": "markdown",
   "metadata": {},
   "source": [
    "**Reading the uber dataset**"
   ]
  },
  {
   "cell_type": "code",
   "execution_count": null,
   "metadata": {
    "execution": {
     "iopub.execute_input": "2021-05-26T09:19:26.403397Z",
     "iopub.status.busy": "2021-05-26T09:19:26.403001Z",
     "iopub.status.idle": "2021-05-26T09:19:27.191994Z",
     "shell.execute_reply": "2021-05-26T09:19:27.19096Z",
     "shell.execute_reply.started": "2021-05-26T09:19:26.403355Z"
    }
   },
   "outputs": [],
   "source": [
    "uber_data = pd.read_csv('data/uber-raw-data-jul14.csv')"
   ]
  },
  {
   "cell_type": "code",
   "execution_count": null,
   "metadata": {
    "execution": {
     "iopub.execute_input": "2021-05-26T09:19:27.224418Z",
     "iopub.status.busy": "2021-05-26T09:19:27.22406Z",
     "iopub.status.idle": "2021-05-26T09:19:27.264725Z",
     "shell.execute_reply": "2021-05-26T09:19:27.26396Z",
     "shell.execute_reply.started": "2021-05-26T09:19:27.224387Z"
    }
   },
   "outputs": [],
   "source": [
    "#print the type of data in Date/Time \n",
    "type(uber_data.loc[0,'Date/Time'])"
   ]
  },
  {
   "cell_type": "code",
   "execution_count": null,
   "metadata": {},
   "outputs": [],
   "source": [
    "uber_data.info()"
   ]
  },
  {
   "cell_type": "code",
   "execution_count": null,
   "metadata": {
    "execution": {
     "iopub.execute_input": "2021-05-26T09:19:27.194779Z",
     "iopub.status.busy": "2021-05-26T09:19:27.194477Z",
     "iopub.status.idle": "2021-05-26T09:19:27.222789Z",
     "shell.execute_reply": "2021-05-26T09:19:27.221803Z",
     "shell.execute_reply.started": "2021-05-26T09:19:27.19475Z"
    }
   },
   "outputs": [],
   "source": [
    "# Print the first 10 elements\n",
    "uber_data.head(10)"
   ]
  },
  {
   "cell_type": "markdown",
   "metadata": {},
   "source": [
    "**The type is str!. Let's  convert it to datetime format for easy indexing**"
   ]
  },
  {
   "cell_type": "code",
   "execution_count": null,
   "metadata": {
    "execution": {
     "iopub.execute_input": "2021-05-26T09:19:27.266085Z",
     "iopub.status.busy": "2021-05-26T09:19:27.265798Z",
     "iopub.status.idle": "2021-05-26T09:20:30.00275Z",
     "shell.execute_reply": "2021-05-26T09:20:30.001946Z",
     "shell.execute_reply.started": "2021-05-26T09:19:27.26606Z"
    }
   },
   "outputs": [],
   "source": [
    "uber_data['Date/Time'] = pd.to_datetime(uber_data['Date/Time'])"
   ]
  },
  {
   "cell_type": "markdown",
   "metadata": {},
   "source": [
    "**Let us divide each hour in existing Date/Time column into four smaller bins of 15 mins each:**\n",
    "\n",
    "**[0mins -15mins], [15mins - 30mins], [30mins - 45mins] and [45mins - 60mins]**\n",
    "\n",
    "**This will allow us to visualize the time series more precisely.**"
   ]
  },
  {
   "cell_type": "code",
   "execution_count": null,
   "metadata": {
    "execution": {
     "iopub.execute_input": "2021-05-26T09:20:30.005867Z",
     "iopub.status.busy": "2021-05-26T09:20:30.005454Z",
     "iopub.status.idle": "2021-05-26T09:20:30.026533Z",
     "shell.execute_reply": "2021-05-26T09:20:30.025721Z",
     "shell.execute_reply.started": "2021-05-26T09:20:30.00581Z"
    }
   },
   "outputs": [],
   "source": [
    "#create a new column to store this new binned column\n",
    "uber_data['BinnedHour']=uber_data['Date/Time'].dt.floor('15min')"
   ]
  },
  {
   "cell_type": "code",
   "execution_count": null,
   "metadata": {
    "execution": {
     "iopub.execute_input": "2021-05-26T09:20:30.028358Z",
     "iopub.status.busy": "2021-05-26T09:20:30.028111Z",
     "iopub.status.idle": "2021-05-26T09:20:30.037392Z",
     "shell.execute_reply": "2021-05-26T09:20:30.036783Z",
     "shell.execute_reply.started": "2021-05-26T09:20:30.028334Z"
    }
   },
   "outputs": [],
   "source": [
    "#printing the new column - BinnedHour\n",
    "uber_data['BinnedHour']"
   ]
  },
  {
   "cell_type": "markdown",
   "metadata": {},
   "source": [
    "### Visualizing the Dataset"
   ]
  },
  {
   "cell_type": "markdown",
   "metadata": {},
   "source": [
    "**Let us visualize the total uber rides per day in the month of July 2014**"
   ]
  },
  {
   "cell_type": "code",
   "execution_count": null,
   "metadata": {
    "execution": {
     "iopub.execute_input": "2021-05-26T09:20:30.038911Z",
     "iopub.status.busy": "2021-05-26T09:20:30.038256Z",
     "iopub.status.idle": "2021-05-26T09:20:30.442637Z",
     "shell.execute_reply": "2021-05-26T09:20:30.441633Z",
     "shell.execute_reply.started": "2021-05-26T09:20:30.038874Z"
    }
   },
   "outputs": [],
   "source": [
    "plt.figure(figsize=(15,8))\n",
    "uber_data['BinnedHour'].dt.day.value_counts().sort_index().plot(kind='bar',color='green')\n",
    "for item in plt.gca().get_xticklabels():\n",
    "    item.set_rotation(45)\n",
    "plt.title('Uber Rides per day in July 2014 at NYC')\n",
    "plt.xlabel('Days')\n",
    "_=plt.ylabel('Rides')"
   ]
  },
  {
   "cell_type": "markdown",
   "metadata": {},
   "source": [
    "**Observe the nearly recurring pattern in the data!. It is very noticable after day 11.**\n",
    "\n",
    "**Let us have a more closer look at it, say every 15 minutes from July 1 to July 31.**"
   ]
  },
  {
   "cell_type": "code",
   "execution_count": null,
   "metadata": {
    "execution": {
     "iopub.execute_input": "2021-05-26T09:20:30.444221Z",
     "iopub.status.busy": "2021-05-26T09:20:30.443955Z",
     "iopub.status.idle": "2021-05-26T09:20:30.796523Z",
     "shell.execute_reply": "2021-05-26T09:20:30.795907Z",
     "shell.execute_reply.started": "2021-05-26T09:20:30.444194Z"
    }
   },
   "outputs": [],
   "source": [
    "plt.figure(figsize=(15,8))\n",
    "uber_data['BinnedHour'].value_counts().sort_index().plot(c='darkblue',alpha=0.8)\n",
    "plt.title('Uber Rides every 15 mins in the month of July at NYC')\n",
    "plt.xlabel('Days')\n",
    "_=plt.ylabel('No. of Rides')"
   ]
  },
  {
   "cell_type": "markdown",
   "metadata": {},
   "source": [
    "**The underlying trend is clearly visible now. It conveys that in a day there are times when the pickups are very low and very high, and they seem to follow a pattern.**\n",
    "\n",
    "**Q) Which times correspond to the highest and lowest peaks in the plot above?**"
   ]
  },
  {
   "cell_type": "code",
   "execution_count": null,
   "metadata": {
    "execution": {
     "iopub.execute_input": "2021-05-26T09:20:30.797731Z",
     "iopub.status.busy": "2021-05-26T09:20:30.797416Z",
     "iopub.status.idle": "2021-05-26T09:20:30.821762Z",
     "shell.execute_reply": "2021-05-26T09:20:30.820708Z",
     "shell.execute_reply.started": "2021-05-26T09:20:30.797707Z"
    }
   },
   "outputs": [],
   "source": [
    "uber_data['BinnedHour'].value_counts()"
   ]
  },
  {
   "cell_type": "markdown",
   "metadata": {},
   "source": [
    "**The highest peak corresponds to the time 19:15(7:15 PM), 15th July 2014 and has a ride count of 915 and the lowest peak corresponds to the time 02:30, 7th July 2014 and has a ride count of 10**"
   ]
  },
  {
   "cell_type": "markdown",
   "metadata": {},
   "source": [
    "**Now, Lets visualize the week wise trends in the data. For it, we have to map each date into its day name using a dictionary**"
   ]
  },
  {
   "cell_type": "code",
   "execution_count": null,
   "metadata": {
    "execution": {
     "iopub.execute_input": "2021-05-26T09:20:30.823287Z",
     "iopub.status.busy": "2021-05-26T09:20:30.822977Z",
     "iopub.status.idle": "2021-05-26T09:20:30.934401Z",
     "shell.execute_reply": "2021-05-26T09:20:30.93358Z",
     "shell.execute_reply.started": "2021-05-26T09:20:30.823261Z"
    }
   },
   "outputs": [],
   "source": [
    "#defining a dictionary to map the weekday to day name\n",
    "DayMap={0:'Monday', 1:'Tuesday', 2:'Wednesday', 3:'Thursday', 4:'Friday', 5:'Saturday', 6:'Sunday'}\n",
    "uber_data['Day']=uber_data['BinnedHour'].dt.weekday.map(DayMap)"
   ]
  },
  {
   "cell_type": "code",
   "execution_count": null,
   "metadata": {
    "execution": {
     "iopub.execute_input": "2021-05-26T09:20:30.936202Z",
     "iopub.status.busy": "2021-05-26T09:20:30.935791Z",
     "iopub.status.idle": "2021-05-26T09:20:31.179156Z",
     "shell.execute_reply": "2021-05-26T09:20:31.178165Z",
     "shell.execute_reply.started": "2021-05-26T09:20:30.936162Z"
    }
   },
   "outputs": [],
   "source": [
    "#Separating the date to another column\n",
    "uber_data['Date']=uber_data['BinnedHour'].dt.date"
   ]
  },
  {
   "cell_type": "code",
   "execution_count": null,
   "metadata": {
    "execution": {
     "iopub.execute_input": "2021-05-26T09:20:31.180525Z",
     "iopub.status.busy": "2021-05-26T09:20:31.180284Z",
     "iopub.status.idle": "2021-05-26T09:20:31.225629Z",
     "shell.execute_reply": "2021-05-26T09:20:31.224509Z",
     "shell.execute_reply.started": "2021-05-26T09:20:31.180502Z"
    }
   },
   "outputs": [],
   "source": [
    "#Defining ordered category of week days for easy sorting and visualization\n",
    "uber_data['Day']=pd.Categorical(uber_data['Day'],categories=['Monday','Tuesday','Wednesday','Thursday','Friday','Saturday','Sunday'],ordered=True)"
   ]
  },
  {
   "cell_type": "code",
   "execution_count": null,
   "metadata": {
    "execution": {
     "iopub.execute_input": "2021-05-26T09:20:31.227397Z",
     "iopub.status.busy": "2021-05-26T09:20:31.22706Z",
     "iopub.status.idle": "2021-05-26T09:20:31.557111Z",
     "shell.execute_reply": "2021-05-26T09:20:31.55632Z",
     "shell.execute_reply.started": "2021-05-26T09:20:31.227367Z"
    }
   },
   "outputs": [],
   "source": [
    "#Separating time from the \"BinnedHour\" Column\n",
    "uber_data['Time']=uber_data['BinnedHour'].dt.time"
   ]
  },
  {
   "cell_type": "markdown",
   "metadata": {},
   "source": [
    "**Rearranging the dataset for weekly analysis**"
   ]
  },
  {
   "cell_type": "code",
   "execution_count": null,
   "metadata": {
    "execution": {
     "iopub.execute_input": "2021-05-26T09:20:31.558618Z",
     "iopub.status.busy": "2021-05-26T09:20:31.558198Z",
     "iopub.status.idle": "2021-05-26T09:20:32.018084Z",
     "shell.execute_reply": "2021-05-26T09:20:32.016869Z",
     "shell.execute_reply.started": "2021-05-26T09:20:31.55859Z"
    }
   },
   "outputs": [],
   "source": [
    "weekly_data = uber_data.groupby(['Date','Day','Time']).count().dropna().rename(columns={'BinnedHour':'Rides'})['Rides'].reset_index()\n",
    "weekly_data.head(10)"
   ]
  },
  {
   "cell_type": "markdown",
   "metadata": {},
   "source": [
    "**Grouping weekly_data by days to plot total rides per week in july 2014.**"
   ]
  },
  {
   "cell_type": "code",
   "execution_count": null,
   "metadata": {
    "execution": {
     "iopub.execute_input": "2021-05-26T09:20:32.019712Z",
     "iopub.status.busy": "2021-05-26T09:20:32.019418Z",
     "iopub.status.idle": "2021-05-26T09:20:32.039141Z",
     "shell.execute_reply": "2021-05-26T09:20:32.037912Z",
     "shell.execute_reply.started": "2021-05-26T09:20:32.019686Z"
    }
   },
   "outputs": [],
   "source": [
    "#Grouping the weekly_data daywise\n",
    "daywise = weekly_data.groupby('Day').sum()\n",
    "daywise"
   ]
  },
  {
   "cell_type": "code",
   "execution_count": null,
   "metadata": {
    "execution": {
     "iopub.execute_input": "2021-05-26T09:20:32.04127Z",
     "iopub.status.busy": "2021-05-26T09:20:32.040903Z",
     "iopub.status.idle": "2021-05-26T09:20:32.253162Z",
     "shell.execute_reply": "2021-05-26T09:20:32.252497Z",
     "shell.execute_reply.started": "2021-05-26T09:20:32.041222Z"
    }
   },
   "outputs": [],
   "source": [
    "#Plotting the graphs for a better visualization\n",
    "sns.set_style(\"dark\")\n",
    "plt.figure(figsize=(12,12))\n",
    "\n",
    "#Creating a customized color palette for custom hue according to height of bars\n",
    "vals = daywise.to_numpy().ravel()\n",
    "normalized = (vals - np.min(vals)) / (np.max(vals) - np.min(vals))\n",
    "indices = np.round(normalized * (len(vals) - 1)).astype(np.int32)\n",
    "palette = sns.color_palette('Reds', len(vals))\n",
    "colorPal = np.array(palette).take(indices, axis=0)\n",
    "\n",
    "#Creating a bar plot\n",
    "ax=sns.barplot(x = daywise.index,y= vals,palette=colorPal)\n",
    "plt.ylabel('Total rides')\n",
    "plt.title('Total Rides by week day in July 2014 at NYC')\n",
    "for rect in ax.patches:\n",
    "    ax.text(rect.get_x() + rect.get_width()/2.0,rect.get_height(),int(rect.get_height()), ha='center', va='bottom')"
   ]
  },
  {
   "cell_type": "markdown",
   "metadata": {},
   "source": [
    "**According to the bar plot above, rides are maximum on Thursdays and minimum on Sundays. Sundays having the lowest number of rides makes sense logically, as it's a holiday and people often take rest on that day.**"
   ]
  },
  {
   "cell_type": "code",
   "execution_count": null,
   "metadata": {
    "execution": {
     "iopub.execute_input": "2021-05-26T09:20:32.254652Z",
     "iopub.status.busy": "2021-05-26T09:20:32.25424Z",
     "iopub.status.idle": "2021-05-26T09:20:32.268707Z",
     "shell.execute_reply": "2021-05-26T09:20:32.267793Z",
     "shell.execute_reply.started": "2021-05-26T09:20:32.254624Z"
    }
   },
   "outputs": [],
   "source": [
    "weekly_data = weekly_data.groupby(['Day','Time']).mean()['Rides']\n",
    "weekly_data.head(10)"
   ]
  },
  {
   "cell_type": "code",
   "execution_count": null,
   "metadata": {
    "execution": {
     "iopub.execute_input": "2021-05-26T09:20:32.270239Z",
     "iopub.status.busy": "2021-05-26T09:20:32.26992Z",
     "iopub.status.idle": "2021-05-26T09:20:32.293722Z",
     "shell.execute_reply": "2021-05-26T09:20:32.292852Z",
     "shell.execute_reply.started": "2021-05-26T09:20:32.270211Z"
    }
   },
   "outputs": [],
   "source": [
    "#Unstacking the data to create heatmap\n",
    "weekly_data= weekly_data.unstack(level=0)\n",
    "weekly_data"
   ]
  },
  {
   "cell_type": "code",
   "execution_count": null,
   "metadata": {
    "execution": {
     "iopub.execute_input": "2021-05-26T09:20:32.295034Z",
     "iopub.status.busy": "2021-05-26T09:20:32.294775Z",
     "iopub.status.idle": "2021-05-26T09:20:32.957691Z",
     "shell.execute_reply": "2021-05-26T09:20:32.956749Z",
     "shell.execute_reply.started": "2021-05-26T09:20:32.295009Z"
    }
   },
   "outputs": [],
   "source": [
    "plt.figure(figsize=(15,15))\n",
    "sns.heatmap(weekly_data,cmap='Greens')\n",
    "_=plt.title('Heatmap of average rides in time vs day grid')"
   ]
  },
  {
   "cell_type": "markdown",
   "metadata": {},
   "source": [
    "**The heatmap indicates that the maximum average uber rides occur around 5:30PM to 6:15PM on Wednesdays and Thursdays and their values fall between 550 to 620.**\n",
    "\n",
    "**Here is another way of looking at it:**"
   ]
  },
  {
   "cell_type": "code",
   "execution_count": null,
   "metadata": {
    "execution": {
     "iopub.execute_input": "2021-05-26T09:20:32.96135Z",
     "iopub.status.busy": "2021-05-26T09:20:32.961094Z",
     "iopub.status.idle": "2021-05-26T09:20:33.239359Z",
     "shell.execute_reply": "2021-05-26T09:20:33.238698Z",
     "shell.execute_reply.started": "2021-05-26T09:20:32.961325Z"
    }
   },
   "outputs": [],
   "source": [
    "plt.figure(figsize=(15,12))\n",
    "weekly_data.plot(ax=plt.gca())\n",
    "_=plt.title('Average rides per day vs time')\n",
    "_=plt.ylabel('Average rides')\n",
    "plt.locator_params(axis='x', nbins=10)"
   ]
  },
  {
   "cell_type": "markdown",
   "metadata": {},
   "source": [
    "**Finding average rides on any day**"
   ]
  },
  {
   "cell_type": "code",
   "execution_count": null,
   "metadata": {
    "execution": {
     "iopub.execute_input": "2021-05-26T09:20:33.241895Z",
     "iopub.status.busy": "2021-05-26T09:20:33.241398Z",
     "iopub.status.idle": "2021-05-26T09:20:33.437162Z",
     "shell.execute_reply": "2021-05-26T09:20:33.436533Z",
     "shell.execute_reply.started": "2021-05-26T09:20:33.241862Z"
    }
   },
   "outputs": [],
   "source": [
    "plt.figure(figsize=(15,10))\n",
    "weekly_data.T.mean().plot(c = 'black')\n",
    "_=plt.title('Average uber rides on any day in July 2014 at NYC')\n",
    "plt.locator_params(axis='x', nbins=10)"
   ]
  },
  {
   "cell_type": "markdown",
   "metadata": {},
   "source": [
    "**This plot further confirms that the average rides on any given day is lowest around 2 AM and highest in the around 5:30 PM.**\n",
    "\n",
    "**Now, let's try visualizing the relationship between Base and total number of rides in July 2014:**"
   ]
  },
  {
   "cell_type": "code",
   "execution_count": null,
   "metadata": {
    "execution": {
     "iopub.execute_input": "2021-05-26T09:20:33.438658Z",
     "iopub.status.busy": "2021-05-26T09:20:33.438234Z",
     "iopub.status.idle": "2021-05-26T09:20:34.072842Z",
     "shell.execute_reply": "2021-05-26T09:20:34.072039Z",
     "shell.execute_reply.started": "2021-05-26T09:20:33.438628Z"
    }
   },
   "outputs": [],
   "source": [
    "#A mapper to map base number with its name\n",
    "BaseMapper={'B02512' : 'Unter', 'B02598' : 'Hinter', 'B02617' : 'Weiter', 'B02682' : 'Schmecken','B02764' : 'Danach-NY'}\n",
    "\n",
    "#Count plot of Base\n",
    "plt.figure(figsize=(12,10))\n",
    "sns.set_style(\"dark\")\n",
    "_=sns.countplot(x=uber_data['Base'].map(BaseMapper))\n",
    "plt.ylabel('Total rides')\n",
    "_=plt.title('CountPlot: Total uber rides vs Base - July 2014, NYC')"
   ]
  },
  {
   "cell_type": "markdown",
   "metadata": {},
   "source": [
    "**The above plot tells us that most uber rides originated from Weiter Base and least from Danach-NY**\n",
    "\n",
    "**To know more about the distribution of latitudes and longitudes, let's plot their histograms along with KDEs**"
   ]
  },
  {
   "cell_type": "code",
   "execution_count": null,
   "metadata": {
    "execution": {
     "iopub.execute_input": "2021-05-26T09:20:34.074347Z",
     "iopub.status.busy": "2021-05-26T09:20:34.074086Z",
     "iopub.status.idle": "2021-05-26T09:20:50.15536Z",
     "shell.execute_reply": "2021-05-26T09:20:50.15439Z",
     "shell.execute_reply.started": "2021-05-26T09:20:34.074312Z"
    }
   },
   "outputs": [],
   "source": [
    "plt.figure(figsize=(10,10))\n",
    "sns.histplot(uber_data['Lat'], bins='auto',kde=True,color='r',alpha=0.4,label = 'latitude')\n",
    "plt.legend(loc='upper right')\n",
    "plt.xlabel('Latitude')\n",
    "plt.twiny()\n",
    "sns.histplot(uber_data['Lon'], bins='auto',kde=True,color='g',alpha=0.4,label = 'longitude')\n",
    "_=plt.legend(loc='upper left')\n",
    "_=plt.xlabel('Longitude')\n",
    "_=plt.title('Distribution of Latitude and Longitude')"
   ]
  },
  {
   "cell_type": "markdown",
   "metadata": {},
   "source": [
    "**Most latitudes are around 40.25, and longitudes around 40.75. This is true as the dataset comprises information only around New York City. This also indicates that most rides happen around (lat,lon) = (40.25,40.75)**\n",
    "\n",
    "**Let's display the latitude - longitude information in 2D:**"
   ]
  },
  {
   "cell_type": "code",
   "execution_count": null,
   "metadata": {
    "execution": {
     "iopub.execute_input": "2021-05-26T09:20:50.156661Z",
     "iopub.status.busy": "2021-05-26T09:20:50.156427Z",
     "iopub.status.idle": "2021-05-26T09:20:53.973699Z",
     "shell.execute_reply": "2021-05-26T09:20:53.972792Z",
     "shell.execute_reply.started": "2021-05-26T09:20:50.156637Z"
    }
   },
   "outputs": [],
   "source": [
    "plt.figure(figsize=(12,12))\n",
    "sns.scatterplot(x='Lat',y='Lon',data=uber_data,edgecolor='None',alpha=0.5,color='darkblue')\n",
    "plt.xlabel('Latitude')\n",
    "plt.ylabel('Longitude')\n",
    "_=plt.title('Latitude - Longitude Scatter Plot')"
   ]
  },
  {
   "cell_type": "markdown",
   "metadata": {},
   "source": [
    "**The dark blue area in the center shows the regions in New York City that had most number of uber rides in July 2014. The plot is better understood when a geographical map is placed underneath**\n"
   ]
  },
  {
   "cell_type": "markdown",
   "metadata": {},
   "source": [
    "**Let's use geopy to calculate the distance between Metropolitan Museum and Emperical State Building**"
   ]
  },
  {
   "cell_type": "code",
   "execution_count": null,
   "metadata": {
    "execution": {
     "iopub.execute_input": "2021-05-26T09:20:53.975086Z",
     "iopub.status.busy": "2021-05-26T09:20:53.974833Z",
     "iopub.status.idle": "2021-05-26T09:20:53.981152Z",
     "shell.execute_reply": "2021-05-26T09:20:53.980132Z",
     "shell.execute_reply.started": "2021-05-26T09:20:53.975062Z"
    }
   },
   "outputs": [],
   "source": [
    "#This is an example of using geopy\n",
    "metro_art_coordinates = (40.7794,-73.9632)\n",
    "empire_state_building_coordinates = (40.7484,-73.9857)\n",
    "\n",
    "distance = geopy.distance.distance(metro_art_coordinates,empire_state_building_coordinates)\n",
    "\n",
    "print(\"Distance = \",distance)"
   ]
  },
  {
   "cell_type": "markdown",
   "metadata": {},
   "source": [
    "**Using geopy on a larger dataset may be time consuming on slower PC's. Hence let's use the haversine method**"
   ]
  },
  {
   "cell_type": "code",
   "execution_count": null,
   "metadata": {
    "execution": {
     "iopub.execute_input": "2021-05-26T09:20:53.982512Z",
     "iopub.status.busy": "2021-05-26T09:20:53.982269Z",
     "iopub.status.idle": "2021-05-26T09:20:53.99447Z",
     "shell.execute_reply": "2021-05-26T09:20:53.993748Z",
     "shell.execute_reply.started": "2021-05-26T09:20:53.982488Z"
    }
   },
   "outputs": [],
   "source": [
    "def haversine(coordinates1,coordinates2):\n",
    "    \n",
    "    lat1=coordinates1[0]\n",
    "    lon1=coordinates1[1]\n",
    "    lat2=coordinates2[0]\n",
    "    lon2=coordinates2[1]\n",
    "    \n",
    "    #convert to radians and apply haverson formula\n",
    "    lon1,lat1,lon2,lat2 = map(radians,[lon1,lat1,lon2,lat2])\n",
    "    dlon = lon2 - lon1\n",
    "    dlat = lat2 - lat1\n",
    "    \n",
    "    a = sin(dlat/2)**2 + cos(lat1)*cos(lat2)*sin(dlon/2)**2\n",
    "    c = 2*asin(sqrt(a))\n",
    "    r = 3956\n",
    "    return c*r\n",
    "print(\"Distance (mi) = \",haversine(metro_art_coordinates,empire_state_building_coordinates))"
   ]
  },
  {
   "cell_type": "markdown",
   "metadata": {},
   "source": [
    "**Now, Let's try to predict which place they are more closer to, say MM or ESB. This can be done by individually calculating the distance between each uber ride coordinates with MM or ESB coordinates. If they are found to be in a particular threshold radius with MM, then we can predict that the ride is going to MM. Similarly for ESB.**"
   ]
  },
  {
   "cell_type": "code",
   "execution_count": null,
   "metadata": {
    "execution": {
     "iopub.execute_input": "2021-05-26T09:20:53.995721Z",
     "iopub.status.busy": "2021-05-26T09:20:53.995491Z",
     "iopub.status.idle": "2021-05-26T09:21:08.465541Z",
     "shell.execute_reply": "2021-05-26T09:21:08.464854Z",
     "shell.execute_reply.started": "2021-05-26T09:20:53.995699Z"
    }
   },
   "outputs": [],
   "source": [
    "#calculating distance to MM and ESB for each point in the dataset\n",
    "uber_data['Distance MM'] = uber_data[['Lat','Lon']].apply(lambda x: haversine(metro_art_coordinates,tuple(x)),axis=1)\n",
    "uber_data['Distance ESB'] = uber_data[['Lat','Lon']].apply(lambda x: haversine(empire_state_building_coordinates,tuple(x)),axis=1)"
   ]
  },
  {
   "cell_type": "code",
   "execution_count": null,
   "metadata": {
    "execution": {
     "iopub.execute_input": "2021-05-26T09:21:08.46698Z",
     "iopub.status.busy": "2021-05-26T09:21:08.466548Z",
     "iopub.status.idle": "2021-05-26T09:21:08.483478Z",
     "shell.execute_reply": "2021-05-26T09:21:08.482532Z",
     "shell.execute_reply.started": "2021-05-26T09:21:08.466942Z"
    }
   },
   "outputs": [],
   "source": [
    "#printing the first 10 elements of the updated dataset\n",
    "uber_data.head(10)"
   ]
  },
  {
   "cell_type": "code",
   "execution_count": null,
   "metadata": {
    "execution": {
     "iopub.execute_input": "2021-05-26T09:21:08.4848Z",
     "iopub.status.busy": "2021-05-26T09:21:08.484425Z",
     "iopub.status.idle": "2021-05-26T09:21:08.518571Z",
     "shell.execute_reply": "2021-05-26T09:21:08.51763Z",
     "shell.execute_reply.started": "2021-05-26T09:21:08.484762Z"
    }
   },
   "outputs": [],
   "source": [
    "#Now, let's keep a threshold of 0.25 miles and calculate the number of points that are closer to MM and ESB\n",
    "#according to these thresholds\n",
    "\n",
    "print((uber_data[['Distance MM','Distance ESB']]<0.25).sum())"
   ]
  },
  {
   "cell_type": "markdown",
   "metadata": {},
   "source": [
    "**The result above shows the number of rides predicted to MM and ESB**\n"
   ]
  },
  {
   "cell_type": "code",
   "execution_count": null,
   "metadata": {
    "execution": {
     "iopub.execute_input": "2021-05-26T09:21:08.520187Z",
     "iopub.status.busy": "2021-05-26T09:21:08.519806Z",
     "iopub.status.idle": "2021-05-26T09:21:08.524556Z",
     "shell.execute_reply": "2021-05-26T09:21:08.523512Z",
     "shell.execute_reply.started": "2021-05-26T09:21:08.520146Z"
    }
   },
   "outputs": [],
   "source": [
    "distance_range = np.arange(0.1,5.1,0.1)"
   ]
  },
  {
   "cell_type": "code",
   "execution_count": null,
   "metadata": {
    "execution": {
     "iopub.execute_input": "2021-05-26T09:21:08.527803Z",
     "iopub.status.busy": "2021-05-26T09:21:08.527374Z",
     "iopub.status.idle": "2021-05-26T09:21:08.87094Z",
     "shell.execute_reply": "2021-05-26T09:21:08.870007Z",
     "shell.execute_reply.started": "2021-05-26T09:21:08.527754Z"
    }
   },
   "outputs": [],
   "source": [
    "distance_data = [(uber_data[['Distance MM','Distance ESB']] < dist).sum() for dist in distance_range]"
   ]
  },
  {
   "cell_type": "code",
   "execution_count": null,
   "metadata": {
    "execution": {
     "iopub.execute_input": "2021-05-26T09:21:08.872514Z",
     "iopub.status.busy": "2021-05-26T09:21:08.872259Z",
     "iopub.status.idle": "2021-05-26T09:21:08.894649Z",
     "shell.execute_reply": "2021-05-26T09:21:08.893391Z",
     "shell.execute_reply.started": "2021-05-26T09:21:08.872488Z"
    }
   },
   "outputs": [],
   "source": [
    "distance_data"
   ]
  },
  {
   "cell_type": "code",
   "execution_count": null,
   "metadata": {
    "execution": {
     "iopub.execute_input": "2021-05-26T09:21:08.89613Z",
     "iopub.status.busy": "2021-05-26T09:21:08.895871Z",
     "iopub.status.idle": "2021-05-26T09:21:08.905227Z",
     "shell.execute_reply": "2021-05-26T09:21:08.904252Z",
     "shell.execute_reply.started": "2021-05-26T09:21:08.896106Z"
    }
   },
   "outputs": [],
   "source": [
    "#concatentate and transpose\n",
    "distance_data = pd.concat(distance_data,axis=1)\n",
    "distance_data = distance_data.T"
   ]
  },
  {
   "cell_type": "code",
   "execution_count": null,
   "metadata": {
    "execution": {
     "iopub.execute_input": "2021-05-26T09:21:08.90696Z",
     "iopub.status.busy": "2021-05-26T09:21:08.906572Z",
     "iopub.status.idle": "2021-05-26T09:21:08.9151Z",
     "shell.execute_reply": "2021-05-26T09:21:08.913941Z",
     "shell.execute_reply.started": "2021-05-26T09:21:08.906847Z"
    }
   },
   "outputs": [],
   "source": [
    "#Shifting index \n",
    "distance_data.index = distance_range"
   ]
  },
  {
   "cell_type": "code",
   "execution_count": null,
   "metadata": {
    "execution": {
     "iopub.execute_input": "2021-05-26T09:21:08.916546Z",
     "iopub.status.busy": "2021-05-26T09:21:08.91628Z",
     "iopub.status.idle": "2021-05-26T09:21:08.926928Z",
     "shell.execute_reply": "2021-05-26T09:21:08.925994Z",
     "shell.execute_reply.started": "2021-05-26T09:21:08.916522Z"
    }
   },
   "outputs": [],
   "source": [
    "distance_data=distance_data.rename(columns={'Distance MM':'CloserToMM','Distance ESB':'CloserToESB'})"
   ]
  },
  {
   "cell_type": "code",
   "execution_count": null,
   "metadata": {
    "execution": {
     "iopub.execute_input": "2021-05-26T09:21:08.928444Z",
     "iopub.status.busy": "2021-05-26T09:21:08.928198Z",
     "iopub.status.idle": "2021-05-26T09:21:09.15371Z",
     "shell.execute_reply": "2021-05-26T09:21:09.152638Z",
     "shell.execute_reply.started": "2021-05-26T09:21:08.928419Z"
    }
   },
   "outputs": [],
   "source": [
    "plt.figure(figsize=(12,12))\n",
    "distance_data.plot(ax=plt.gca())\n",
    "plt.title('Number of Rides Closer to ESB and MM')\n",
    "plt.xlabel('Threshold Radius(mi)')\n",
    "plt.ylabel('Rides')"
   ]
  },
  {
   "cell_type": "markdown",
   "metadata": {},
   "source": [
    "**The number of riders to MM and ESB initially diverges, but comes closer as threshold increases. Hence as radius increases, the rate of people going towards MM gets higher than that to ESB. In another way of thinking, as we expand the radius, most of the newly discovered rides are going to MM.**"
   ]
  },
  {
   "cell_type": "markdown",
   "metadata": {},
   "source": [
    "**Now let us observe the heatmap plotted on geographical map (using folium)**"
   ]
  },
  {
   "cell_type": "code",
   "execution_count": null,
   "metadata": {
    "execution": {
     "iopub.execute_input": "2021-05-26T09:21:09.15592Z",
     "iopub.status.busy": "2021-05-26T09:21:09.155592Z",
     "iopub.status.idle": "2021-05-26T09:21:18.38166Z",
     "shell.execute_reply": "2021-05-26T09:21:18.380217Z",
     "shell.execute_reply.started": "2021-05-26T09:21:09.155887Z"
    }
   },
   "outputs": [],
   "source": [
    "#initilize the map around NYC and set the zoom level to 10\n",
    "uber_map = folium.Map(location=metro_art_coordinates,zoom_start=10)\n",
    "\n",
    "#lets mark MM and ESB on the map\n",
    "folium.Marker(metro_art_coordinates,popup = \"MM\").add_to(uber_map)\n",
    "folium.Marker(empire_state_building_coordinates,popup = \"ESB\").add_to(uber_map)\n",
    "\n",
    "#convert to numpy array and plot it\n",
    "Lat_Lon = uber_data[['Lat','Lon']].to_numpy()\n",
    "folium.plugins.HeatMap(Lat_Lon,radius=10).add_to(uber_map)\n",
    "\n",
    "#Displaying the map\n",
    "uber_map"
   ]
  },
  {
   "cell_type": "markdown",
   "metadata": {},
   "source": [
    "**Lets reduce the \"Influence\" of each point on the heatmap by using a weight of 0.5 (by default it is 1)**"
   ]
  },
  {
   "cell_type": "code",
   "execution_count": null,
   "metadata": {
    "execution": {
     "iopub.execute_input": "2021-05-26T09:21:18.383572Z",
     "iopub.status.busy": "2021-05-26T09:21:18.383194Z",
     "iopub.status.idle": "2021-05-26T09:21:28.372444Z",
     "shell.execute_reply": "2021-05-26T09:21:28.371487Z",
     "shell.execute_reply.started": "2021-05-26T09:21:18.383543Z"
    }
   },
   "outputs": [],
   "source": [
    "uber_data['Weight']=0.5\n",
    "\n",
    "#Take on 10000 points to plot (Just to speed up things)\n",
    "Lat_Lon = uber_data[['Lat','Lon','Weight']].to_numpy()\n",
    "\n",
    "#Plotting\n",
    "uber_map = folium.Map(metro_art_coordinates,zoom_start=10)\n",
    "folium.plugins.HeatMap(Lat_Lon,radius=15).add_to(uber_map)\n",
    "uber_map"
   ]
  },
  {
   "cell_type": "markdown",
   "metadata": {},
   "source": [
    "**The plot looks easy to visualize now. Boundaries and intensity distribution is clear**\n",
    "\n",
    "\n",
    "**Let's now create a HeatMap that changes with time. This will help us to visualize the number of uber rides geographically at a given time.**\n",
    "\n",
    "**We are plotting only the points that are in a radius of 0.25 miles from MM or ESB**"
   ]
  },
  {
   "cell_type": "code",
   "execution_count": null,
   "metadata": {
    "execution": {
     "iopub.execute_input": "2021-05-26T09:21:28.374969Z",
     "iopub.status.busy": "2021-05-26T09:21:28.374156Z",
     "iopub.status.idle": "2021-05-26T09:21:28.394713Z",
     "shell.execute_reply": "2021-05-26T09:21:28.393623Z",
     "shell.execute_reply.started": "2021-05-26T09:21:28.37493Z"
    }
   },
   "outputs": [],
   "source": [
    "i = uber_data[['Distance MM','Distance ESB']] < 0.25\n",
    "\n",
    "i.head(10)"
   ]
  },
  {
   "cell_type": "code",
   "execution_count": null,
   "metadata": {
    "execution": {
     "iopub.execute_input": "2021-05-26T09:21:28.396888Z",
     "iopub.status.busy": "2021-05-26T09:21:28.396431Z",
     "iopub.status.idle": "2021-05-26T09:21:28.423806Z",
     "shell.execute_reply": "2021-05-26T09:21:28.422956Z",
     "shell.execute_reply.started": "2021-05-26T09:21:28.396834Z"
    }
   },
   "outputs": [],
   "source": [
    "#Create a boolean mask to choose the rides that satisfy the 0.25 radius threshold\n",
    "i=i.any(axis=1)\n",
    "\n",
    "i[i==True]"
   ]
  },
  {
   "cell_type": "code",
   "execution_count": null,
   "metadata": {
    "execution": {
     "iopub.execute_input": "2021-05-26T09:21:28.425271Z",
     "iopub.status.busy": "2021-05-26T09:21:28.424847Z",
     "iopub.status.idle": "2021-05-26T09:21:29.078169Z",
     "shell.execute_reply": "2021-05-26T09:21:29.077276Z",
     "shell.execute_reply.started": "2021-05-26T09:21:28.42524Z"
    }
   },
   "outputs": [],
   "source": [
    "#Create a copy of the data\n",
    "map_data = uber_data[i].copy()\n",
    "\n",
    "#use a smaller weight\n",
    "map_data['Weight'] = 0.1\n",
    "\n",
    "#Restricting data to that before 8th july for faster calculations\n",
    "map_data = uber_data[uber_data[\"BinnedHour\"] < datetime.datetime(2014,7,8)].copy()\n",
    "\n",
    "#Generate samples for each timestamp in \"BinnedHour\" (these are the points that are plotted for each timestamp)\n",
    "map_data = map_data.groupby(\"BinnedHour\").apply(lambda x: x[['Lat','Lon','Weight']].sample(int(len(x)/3)).to_numpy().tolist())"
   ]
  },
  {
   "cell_type": "code",
   "execution_count": null,
   "metadata": {
    "execution": {
     "iopub.execute_input": "2021-05-26T09:21:29.07964Z",
     "iopub.status.busy": "2021-05-26T09:21:29.079208Z",
     "iopub.status.idle": "2021-05-26T09:21:29.123494Z",
     "shell.execute_reply": "2021-05-26T09:21:29.122861Z",
     "shell.execute_reply.started": "2021-05-26T09:21:29.079609Z"
    }
   },
   "outputs": [],
   "source": [
    "map_data"
   ]
  },
  {
   "cell_type": "code",
   "execution_count": null,
   "metadata": {
    "execution": {
     "iopub.execute_input": "2021-05-26T09:21:29.125215Z",
     "iopub.status.busy": "2021-05-26T09:21:29.124638Z",
     "iopub.status.idle": "2021-05-26T09:21:29.135267Z",
     "shell.execute_reply": "2021-05-26T09:21:29.134233Z",
     "shell.execute_reply.started": "2021-05-26T09:21:29.125173Z"
    }
   },
   "outputs": [],
   "source": [
    "#The index to be passed on to heatmapwithtime needs to be a time series of the following format\n",
    "data_hour_index = [x.strftime(\"%m%d%Y, %H:%M:%S\") for x in map_data.index]\n",
    "\n",
    "#convert to list to feed it to heatmapwithtime\n",
    "date_hour_data = map_data.tolist()\n",
    "\n",
    "#initialize map\n",
    "uber_map = folium.Map(location=metro_art_coordinates,zoom_start=10)"
   ]
  },
  {
   "cell_type": "code",
   "execution_count": null,
   "metadata": {
    "execution": {
     "iopub.execute_input": "2021-05-26T09:21:29.136908Z",
     "iopub.status.busy": "2021-05-26T09:21:29.136602Z",
     "iopub.status.idle": "2021-05-26T09:21:29.66077Z",
     "shell.execute_reply": "2021-05-26T09:21:29.659965Z",
     "shell.execute_reply.started": "2021-05-26T09:21:29.136877Z"
    }
   },
   "outputs": [],
   "source": [
    "#plotting\n",
    "hm = folium.plugins.HeatMapWithTime(date_hour_data,index=date_hour_data)\n",
    "\n",
    "#add heatmap to folium map(uber_map)\n",
    "hm.add_to(uber_map)\n",
    "uber_map"
   ]
  },
  {
   "cell_type": "markdown",
   "metadata": {},
   "source": [
    "**Click the play button to visualize the timeseries**"
   ]
  },
  {
   "cell_type": "code",
   "execution_count": null,
   "metadata": {
    "execution": {
     "iopub.execute_input": "2021-05-26T09:21:29.6622Z",
     "iopub.status.busy": "2021-05-26T09:21:29.6618Z",
     "iopub.status.idle": "2021-05-26T09:21:29.686558Z",
     "shell.execute_reply": "2021-05-26T09:21:29.685932Z",
     "shell.execute_reply.started": "2021-05-26T09:21:29.662166Z"
    }
   },
   "outputs": [],
   "source": [
    "uber_data"
   ]
  },
  {
   "cell_type": "code",
   "execution_count": null,
   "metadata": {
    "execution": {
     "iopub.execute_input": "2021-05-26T09:21:29.687886Z",
     "iopub.status.busy": "2021-05-26T09:21:29.687491Z",
     "iopub.status.idle": "2021-05-26T09:21:29.6945Z",
     "shell.execute_reply": "2021-05-26T09:21:29.693713Z",
     "shell.execute_reply.started": "2021-05-26T09:21:29.68785Z"
    }
   },
   "outputs": [],
   "source": [
    "weekends = weekly_data[['Saturday','Sunday']]"
   ]
  },
  {
   "cell_type": "code",
   "execution_count": null,
   "metadata": {
    "execution": {
     "iopub.execute_input": "2021-05-26T09:21:29.695844Z",
     "iopub.status.busy": "2021-05-26T09:21:29.695457Z",
     "iopub.status.idle": "2021-05-26T09:21:29.712456Z",
     "shell.execute_reply": "2021-05-26T09:21:29.711576Z",
     "shell.execute_reply.started": "2021-05-26T09:21:29.695794Z"
    }
   },
   "outputs": [],
   "source": [
    "weekdays = weekly_data.drop(['Saturday','Sunday'],axis=1)"
   ]
  },
  {
   "cell_type": "code",
   "execution_count": null,
   "metadata": {
    "execution": {
     "iopub.execute_input": "2021-05-26T09:21:29.713988Z",
     "iopub.status.busy": "2021-05-26T09:21:29.713558Z",
     "iopub.status.idle": "2021-05-26T09:21:29.730258Z",
     "shell.execute_reply": "2021-05-26T09:21:29.729321Z",
     "shell.execute_reply.started": "2021-05-26T09:21:29.713956Z"
    }
   },
   "outputs": [],
   "source": [
    "weekends = weekends.mean(axis=1)\n",
    "weekdays = weekdays.mean(axis=1)"
   ]
  },
  {
   "cell_type": "code",
   "execution_count": null,
   "metadata": {
    "execution": {
     "iopub.execute_input": "2021-05-26T09:21:29.731875Z",
     "iopub.status.busy": "2021-05-26T09:21:29.731502Z",
     "iopub.status.idle": "2021-05-26T09:21:29.742557Z",
     "shell.execute_reply": "2021-05-26T09:21:29.741684Z",
     "shell.execute_reply.started": "2021-05-26T09:21:29.731837Z"
    }
   },
   "outputs": [],
   "source": [
    "weekdays_weekends = pd.concat([weekdays,weekends],axis=1)\n",
    "weekdays_weekends.columns = ['Weekdays','Weekends']"
   ]
  },
  {
   "cell_type": "code",
   "execution_count": null,
   "metadata": {
    "execution": {
     "iopub.execute_input": "2021-05-26T09:21:29.744145Z",
     "iopub.status.busy": "2021-05-26T09:21:29.743703Z",
     "iopub.status.idle": "2021-05-26T09:21:29.760461Z",
     "shell.execute_reply": "2021-05-26T09:21:29.75961Z",
     "shell.execute_reply.started": "2021-05-26T09:21:29.744106Z"
    }
   },
   "outputs": [],
   "source": [
    "weekdays_weekends"
   ]
  },
  {
   "cell_type": "code",
   "execution_count": null,
   "metadata": {
    "execution": {
     "iopub.execute_input": "2021-05-26T09:21:29.76222Z",
     "iopub.status.busy": "2021-05-26T09:21:29.761746Z",
     "iopub.status.idle": "2021-05-26T09:21:29.989138Z"
    }
   },
   "outputs": [],
   "source": [
    "plt.figure(figsize=(15,10))\n",
    "weekdays_weekends.plot(ax=plt.gca())\n",
    "weekly_data.T.mean().plot(ax=plt.gca(),c = 'black',label='Net Average')\n",
    "_=plt.title('Time Averaged Rides: Weekend, Weekdays, Net Average (Whole July)')\n",
    "_=plt.legend()"
   ]
  },
  {
   "cell_type": "markdown",
   "metadata": {},
   "source": [
    "**The Net average plot is more similar to the weekdays average because there are more weekdays than weekends.** \n",
    "\n",
    "**In early morning, weekends have more rides. This makes sense as people often go out at night during the weekends.**\n",
    "\n",
    "**The number of rides around 8 AM is less on weekends, but more on weekdays as it is usually the time when people goto work. Also, in the weekends, there is a surge in the number of evening rides as people return from work.**\n",
    "\n",
    "**Let us normalize the weekday and weekends data with their own respective sums. This will give us an insight into the proportional data and help us answer questions like - \"What percentage of rides happened around 12AM on weekends or weekdays\"?**"
   ]
  },
  {
   "cell_type": "code",
   "execution_count": null,
   "metadata": {},
   "outputs": [],
   "source": [
    "plt.figure(figsize=(15,10))\n",
    "(weekdays_weekends/weekdays_weekends.sum()).plot(ax=plt.gca())\n",
    "_=plt.title('Time Averaged Rides (Normalized) - Weekend, Weekdays')"
   ]
  },
  {
   "cell_type": "markdown",
   "metadata": {},
   "source": [
    "**Nearly 1.5% of the total rides on weekends happen at midnight but only 0.5% of the total rides happen on weekdays!**\n",
    "**Also, nearly 2% of the total rides on weekdays happen around 5:30PM!**\n",
    "\n",
    "**So far, we have made our observations by eye. Let us do a statistical T test to compare the time-averaged rides on weekdays and weekends**\n"
   ]
  },
  {
   "cell_type": "code",
   "execution_count": null,
   "metadata": {},
   "outputs": [],
   "source": [
    "#Grouping by date and time and creating a dataset that gives the total rides every 15 mins\n",
    "for_ttest = uber_data.groupby(['Date','Time']).count()['Day'].reset_index(level=1)"
   ]
  },
  {
   "cell_type": "code",
   "execution_count": null,
   "metadata": {},
   "outputs": [],
   "source": [
    "#Total rides on each day in july\n",
    "uber_data.groupby(['Date']).count()['Day']"
   ]
  },
  {
   "cell_type": "code",
   "execution_count": null,
   "metadata": {},
   "outputs": [],
   "source": [
    "#Normalizing the dataset by dividing rides in each time slot on a day by total number of rides on that day\n",
    "for_ttest = pd.concat([for_ttest['Day']/uber_data.groupby(['Date']).count()['Day'],for_ttest['Time']],axis=1)\n"
   ]
  },
  {
   "cell_type": "code",
   "execution_count": null,
   "metadata": {},
   "outputs": [],
   "source": [
    "\n",
    "#renaming\n",
    "for_ttest=for_ttest.rename(columns={'Day':'NormalizedRides'})"
   ]
  },
  {
   "cell_type": "code",
   "execution_count": null,
   "metadata": {},
   "outputs": [],
   "source": [
    "for_ttest"
   ]
  },
  {
   "cell_type": "code",
   "execution_count": null,
   "metadata": {},
   "outputs": [],
   "source": [
    "for_ttest = pd.concat([for_ttest,pd.to_datetime(for_ttest.reset_index()['Date']).dt.day_name().to_frame().set_index(for_ttest.index).rename(columns={'Date':'Day'})],axis=1)"
   ]
  },
  {
   "cell_type": "code",
   "execution_count": null,
   "metadata": {},
   "outputs": [],
   "source": [
    "#uber_data.groupby(['Date','Time','Day']).count().dropna().reset_index()[['Date','Day']].set_index('Date')"
   ]
  },
  {
   "cell_type": "code",
   "execution_count": null,
   "metadata": {},
   "outputs": [],
   "source": [
    "\n",
    "for_ttest"
   ]
  },
  {
   "cell_type": "markdown",
   "metadata": {},
   "source": [
    "**The rides are first normalized by dividing the number of rides in each time slot by the total number of rides on that day**\n",
    "\n",
    "**Then they are grouped by time and split to weekend and weekdays data and a T test is applied on them.**\n",
    "\n",
    "**A Null hypothesis is assumed: The average ride counts are similar for each time slot on weekends and weekdays**"
   ]
  },
  {
   "cell_type": "code",
   "execution_count": null,
   "metadata": {},
   "outputs": [],
   "source": [
    "ttestvals = for_ttest.groupby('Time').apply(lambda x: ttest_ind(x[x['Day']<'Saturday']['NormalizedRides'],x[x['Day']>='Saturday']['NormalizedRides']))"
   ]
  },
  {
   "cell_type": "code",
   "execution_count": null,
   "metadata": {},
   "outputs": [],
   "source": [
    "ttestvals=pd.DataFrame(ttestvals.to_list(),index = ttestvals.index)"
   ]
  },
  {
   "cell_type": "code",
   "execution_count": null,
   "metadata": {},
   "outputs": [],
   "source": [
    "ttestvals"
   ]
  },
  {
   "cell_type": "markdown",
   "metadata": {},
   "source": [
    "**The t-statistic value is -11.5 around midnight! This means that the assumption(hypothesis) does not hold at that time. The pvalue is very low, hence the null hypthesis is rejected around midnight**\n",
    "\n",
    "**Let's plot and see the values for all timeslots**\n",
    "\n",
    "**if we hold a p-value threshold of 5% (confidence level = 95%), corresponding t-statistic value is 1.96**"
   ]
  },
  {
   "cell_type": "code",
   "execution_count": null,
   "metadata": {},
   "outputs": [],
   "source": [
    "#Let's plot the \"statistic\" column\n",
    "plt.figure(figsize=(15,12))\n",
    "ax=ttestvals['statistic'].plot(kind='barh',color='red',ax=plt.gca())\n",
    "plt.locator_params(axis='y', nbins=40)\n",
    "plt.locator_params(axis='x', nbins=10)\n",
    "plt.xlabel('t-statistic')\n",
    "plt.axvline(x=1.96,alpha=0.5,color='black',linestyle='--')\n",
    "plt.axvline(x=-1.96,alpha=0.5,color='black',linestyle='--')\n",
    "\n",
    "for rect in ax.patches:\n",
    "    if(abs(rect.get_width())<1.96):\n",
    "        rect.set_color('green')\n",
    "_=plt.title('Bar plot of tstatistic')"
   ]
  },
  {
   "cell_type": "markdown",
   "metadata": {},
   "source": [
    "**The time-average ride counts are assumed similar on weekdays and weekends if the width of the bar plot is less than 1.96. Such values are colored in green.**\n",
    "\n",
    "**Note that their count is very low**\n",
    "\n",
    "**Let's visualize a KDE plot of the pvalue to confirm this:**"
   ]
  },
  {
   "cell_type": "code",
   "execution_count": null,
   "metadata": {},
   "outputs": [],
   "source": [
    "#KDE plot\n",
    "plt.figure(figsize=(8,8))\n",
    "ttestvals['pvalue'].plot(kind='kde',color='darkblue',ax=plt.gca())\n",
    "plt.title('KDE plot - P_value')\n",
    "_=plt.xlabel('p_value')"
   ]
  },
  {
   "cell_type": "markdown",
   "metadata": {},
   "source": [
    "**Density peaks around p_value=0. Hence it confirms that the time-averaged rides vary greatly at most time slots on weekends and weekdays**\n",
    "\n",
    "**P-value distribution:**"
   ]
  },
  {
   "cell_type": "code",
   "execution_count": null,
   "metadata": {},
   "outputs": [],
   "source": [
    "plt.figure(figsize=(12,10))\n",
    "ax=ttestvals['pvalue'].plot(kind='line',color='black',ax=plt.gca())\n",
    "plt.axhline(y=0.05,alpha=0.5,color='black',linestyle='--')\n",
    "plt.locator_params(axis='x',nbins=20)\n",
    "for item in plt.gca().get_xticklabels():\n",
    "    item.set_rotation(45)\n",
    "    \n",
    "_=plt.title('Time vs P_value')\n",
    "_=plt.ylabel('P_value')"
   ]
  },
  {
   "cell_type": "markdown",
   "metadata": {},
   "source": [
    "**The threshold is p = 0.05. The null hypothesis is accepted at p_values below 0.05**"
   ]
  },
  {
   "cell_type": "markdown",
   "metadata": {},
   "source": [
    "## Checking Relations in Data"
   ]
  },
  {
   "cell_type": "code",
   "execution_count": null,
   "metadata": {},
   "outputs": [],
   "source": [
    "uber_data"
   ]
  },
  {
   "cell_type": "code",
   "execution_count": null,
   "metadata": {},
   "outputs": [],
   "source": [
    "#create a copy\n",
    "df = uber_data.copy()"
   ]
  },
  {
   "cell_type": "code",
   "execution_count": null,
   "metadata": {},
   "outputs": [],
   "source": [
    "#get numbers of each weekday\n",
    "df['WeekDay']=df['Date/Time'].dt.weekday"
   ]
  },
  {
   "cell_type": "code",
   "execution_count": null,
   "metadata": {},
   "outputs": [],
   "source": [
    "#Convert datetime to float. egs: 1:15AM will be 1.25, 12:45 will be 12.75 etc\n",
    "def func(x):\n",
    "    hr = float(x.hour)\n",
    "    minute = int(x.minute/15)\n",
    "    return hr + minute/4\n",
    "df['Time']=df['Date/Time'].apply(func)"
   ]
  },
  {
   "cell_type": "code",
   "execution_count": null,
   "metadata": {},
   "outputs": [],
   "source": [
    "#Get the day number, removing month and year\n",
    "df['Day']=df['Date/Time'].dt.day"
   ]
  },
  {
   "cell_type": "code",
   "execution_count": null,
   "metadata": {},
   "outputs": [],
   "source": [
    "df"
   ]
  },
  {
   "cell_type": "code",
   "execution_count": null,
   "metadata": {},
   "outputs": [],
   "source": [
    "#Remove unwanted columns that were created for visualization\n",
    "df = df.drop(['Date/Time','BinnedHour','Date','Distance MM','Distance ESB','Lat','Lon'],axis=1)"
   ]
  },
  {
   "cell_type": "code",
   "execution_count": null,
   "metadata": {},
   "outputs": [],
   "source": [
    "#create a redundant columns for easy counting of tolal rides\n",
    "df['DropMe']=1"
   ]
  },
  {
   "cell_type": "code",
   "execution_count": null,
   "metadata": {},
   "outputs": [],
   "source": [
    "#count the number of rides for a given day, weekday number, time and base\n",
    "df = df.groupby(['Day','WeekDay','Time','Base']).count()['DropMe'].reset_index().rename(columns={'DropMe':'Rides'})"
   ]
  },
  {
   "cell_type": "code",
   "execution_count": null,
   "metadata": {},
   "outputs": [],
   "source": [
    "df"
   ]
  },
  {
   "cell_type": "code",
   "execution_count": null,
   "metadata": {},
   "outputs": [],
   "source": [
    "#Weekends are given special emphasis, as their trends were very different from that on weekdays.\n",
    "#so we devote a special columns indicating whether the day is weekday or not\n",
    "df['Weekend']=df.apply(lambda x: 1 if(x['WeekDay']>4) else 0,axis=1)"
   ]
  },
  {
   "cell_type": "markdown",
   "metadata": {},
   "source": [
    "**Let's visualize a pairplot**"
   ]
  },
  {
   "cell_type": "code",
   "execution_count": null,
   "metadata": {},
   "outputs": [],
   "source": [
    "sns.pairplot(df,hue='Base')"
   ]
  },
  {
   "cell_type": "markdown",
   "metadata": {},
   "source": [
    "**Notice the clusters in data! Especially time-rides, day-rides.**\n",
    "\n",
    "**Let's create a jointplot of Rides vs Time**"
   ]
  },
  {
   "cell_type": "code",
   "execution_count": null,
   "metadata": {},
   "outputs": [],
   "source": [
    "plt.figure()\n",
    "_=sns.jointplot(x='Rides',y='Time',data = df,hue='Base')"
   ]
  },
  {
   "cell_type": "code",
   "execution_count": null,
   "metadata": {},
   "outputs": [],
   "source": []
  }
 ],
 "metadata": {
  "kernelspec": {
   "display_name": "Python 3",
   "language": "python",
   "name": "python3"
  },
  "language_info": {
   "codemirror_mode": {
    "name": "ipython",
    "version": 3
   },
   "file_extension": ".py",
   "mimetype": "text/x-python",
   "name": "python",
   "nbconvert_exporter": "python",
   "pygments_lexer": "ipython3",
   "version": "3.7.4"
  }
 },
 "nbformat": 4,
 "nbformat_minor": 4
}
