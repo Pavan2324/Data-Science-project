{
 "cells": [
  {
   "cell_type": "markdown",
   "metadata": {},
   "source": [
    "## Outline:\n",
    "\n",
    "- 1. Dataset Observation\n",
    "\n",
    "     \n",
    "     \n",
    "- 2. Exploratory Data Analysis and Cleaning\n",
    "    \n",
    "   - Missing Values\n",
    "   - Univariate Analysis (Target)\n",
    "   - Univariate Analysis (Independent Variables)\n",
    "   - Multivariate Analysis\n",
    "   - Outliers\n",
    "   - Normalization\n",
    "   - Correlation\n",
    "        \n",
    "    \n",
    "- 3. Model Preparation\n",
    "\n",
    "    - Split training and testing\n",
    "    - Encoding\n",
    "    \n",
    "    \n",
    "- 5. Models and Tuning / Evaluation Metrics\n",
    "    \n",
    "    - Regression Algorithms\n",
    "    - RMSE / MSE / MAE"
   ]
  },
  {
   "cell_type": "markdown",
   "metadata": {},
   "source": [
    "# 1. Data Observation"
   ]
  },
  {
   "cell_type": "code",
   "execution_count": null,
   "metadata": {},
   "outputs": [],
   "source": [
    "import pandas as pd\n",
    "import numpy as np\n",
    "\n",
    "import matplotlib.pyplot as plt\n",
    "import seaborn as sns"
   ]
  },
  {
   "cell_type": "code",
   "execution_count": null,
   "metadata": {},
   "outputs": [],
   "source": [
    "df_train = pd.read_csv('Train.csv')"
   ]
  },
  {
   "cell_type": "code",
   "execution_count": null,
   "metadata": {},
   "outputs": [],
   "source": [
    "print(\"Train Shape: \", df_train.shape)"
   ]
  },
  {
   "cell_type": "code",
   "execution_count": null,
   "metadata": {},
   "outputs": [],
   "source": [
    "df_train.head()"
   ]
  },
  {
   "cell_type": "code",
   "execution_count": null,
   "metadata": {},
   "outputs": [],
   "source": [
    "df_train.dtypes"
   ]
  },
  {
   "cell_type": "code",
   "execution_count": null,
   "metadata": {},
   "outputs": [],
   "source": [
    "categorical_df = df_train.select_dtypes(include = 'object')\n",
    "numerical_df = df_train.select_dtypes(exclude = 'object')"
   ]
  },
  {
   "cell_type": "code",
   "execution_count": null,
   "metadata": {},
   "outputs": [],
   "source": [
    "print(f\"There are {len(categorical_df.columns)} Categorical Attributes\")\n",
    "print(f\"There are {len(numerical_df.columns)} Numerical Attributes\")"
   ]
  },
  {
   "cell_type": "code",
   "execution_count": null,
   "metadata": {},
   "outputs": [],
   "source": [
    "df_train.describe()"
   ]
  },
  {
   "cell_type": "markdown",
   "metadata": {},
   "source": [
    "# 2. Exploratory Data Analysis\n",
    "\n",
    "Exploratory data analysis is an approach to analyzing data sets to summarize their main characteristics, often using statistical graphics and other data visualization methods.\n",
    "\n",
    "We will be improve our features as we go through the visulizations. \n",
    "\n",
    "But first, let's analyze the missing values."
   ]
  },
  {
   "cell_type": "code",
   "execution_count": null,
   "metadata": {},
   "outputs": [],
   "source": [
    "xdf = df_train.copy()"
   ]
  },
  {
   "cell_type": "markdown",
   "metadata": {},
   "source": [
    "## Missing Values"
   ]
  },
  {
   "cell_type": "code",
   "execution_count": null,
   "metadata": {},
   "outputs": [],
   "source": [
    "import matplotlib.pyplot as plt\n",
    "import seaborn as sns"
   ]
  },
  {
   "cell_type": "code",
   "execution_count": null,
   "metadata": {},
   "outputs": [],
   "source": [
    "plt.figure(figsize = (8,8))\n",
    "sns.heatmap(xdf.isnull(), cbar = False);"
   ]
  },
  {
   "cell_type": "markdown",
   "metadata": {},
   "source": [
    "Now, we know <b> Item_Weight </b> and <b> Outlet_Size </b> contains huge number of \"NaN\" but how much?"
   ]
  },
  {
   "cell_type": "code",
   "execution_count": null,
   "metadata": {},
   "outputs": [],
   "source": [
    "## Let's list them out:\n",
    "\n",
    "total = xdf.isnull().sum().sort_values(ascending = False)\n",
    "percent = ((xdf.isnull().sum() / xdf.shape[0]) * 100).sort_values(ascending = False)\n",
    "percent = np.round(percent, 3)\n",
    "types = xdf[percent.index].dtypes\n",
    "\n",
    "missing_data = pd.concat([total, percent, types], axis = 1, keys = [\"Total\",\"Percent\",\"Type\"])\n",
    "missing_data.head(5)"
   ]
  },
  {
   "cell_type": "markdown",
   "metadata": {},
   "source": [
    "These are the values in <b> % </b>. <b> 28.27% </b> and<b> 17.16 % </b> values are missing in <b> Outlet_Size </b> and <b> Item_Weight </b> respectively."
   ]
  },
  {
   "cell_type": "markdown",
   "metadata": {},
   "source": [
    "### Outlet_Size \n",
    "\n",
    "Since this is a categorical attribute we will impute by using mode"
   ]
  },
  {
   "cell_type": "code",
   "execution_count": null,
   "metadata": {},
   "outputs": [],
   "source": [
    "xdf['Outlet_Size'].fillna(xdf['Outlet_Size'].mode()[0], inplace = True)"
   ]
  },
  {
   "cell_type": "markdown",
   "metadata": {},
   "source": [
    "### Item_Weight \n",
    "\n",
    "It is a numeric variable, so we will be replacing it by <b> median </b>"
   ]
  },
  {
   "cell_type": "code",
   "execution_count": null,
   "metadata": {},
   "outputs": [],
   "source": [
    "xdf['Item_Weight'].fillna(xdf['Item_Weight'].median(), inplace = True)"
   ]
  },
  {
   "cell_type": "markdown",
   "metadata": {},
   "source": [
    "### Let's confirm the impute"
   ]
  },
  {
   "cell_type": "code",
   "execution_count": null,
   "metadata": {},
   "outputs": [],
   "source": [
    "xdf.isnull().sum()"
   ]
  },
  {
   "cell_type": "markdown",
   "metadata": {},
   "source": [
    "## Univariate Analysis\n",
    "\n",
    "Starting with the analyzation of <b> Target Attribute </b>"
   ]
  },
  {
   "cell_type": "code",
   "execution_count": null,
   "metadata": {
    "scrolled": true
   },
   "outputs": [],
   "source": [
    "xdf['Item_Outlet_Sales'].describe()"
   ]
  },
  {
   "cell_type": "markdown",
   "metadata": {},
   "source": [
    "<b> Let's check the distribution of the Target Attribute\n"
   ]
  },
  {
   "cell_type": "code",
   "execution_count": null,
   "metadata": {},
   "outputs": [],
   "source": [
    "plt.figure(figsize = (10,6))\n",
    "sns.histplot(data = xdf, x = 'Item_Outlet_Sales', kde = True);"
   ]
  },
  {
   "cell_type": "code",
   "execution_count": null,
   "metadata": {},
   "outputs": [],
   "source": [
    "## let's confirm the outliers\n",
    "\n",
    "plt.figure(figsize = (10,8))\n",
    "sns.boxplot( x = 'Item_Outlet_Sales', data = xdf);"
   ]
  },
  {
   "cell_type": "markdown",
   "metadata": {},
   "source": [
    "As we can see, it is positively skewed and also containes some outliers.First let's remove outliers."
   ]
  },
  {
   "cell_type": "code",
   "execution_count": null,
   "metadata": {},
   "outputs": [],
   "source": [
    "## First we will remove the outliers from this attribute\n",
    "## function to remove outlier\n",
    "\n",
    "def remove_outliers(dataframe, column):\n",
    "    \n",
    "    Q3 = dataframe[column].quantile(0.75)\n",
    "    Q1 = dataframe[column].quantile(0.25)\n",
    "    \n",
    "    IQR = Q3 - Q1\n",
    "    \n",
    "    upper = Q3 + (1.5 * IQR)\n",
    "    lower = Q1 - (1.5 * IQR)\n",
    "    \n",
    "    df_no_outlier = dataframe[(dataframe[column] > lower ) & (dataframe[column] < upper)]\n",
    "\n",
    "    return df_no_outlier"
   ]
  },
  {
   "cell_type": "code",
   "execution_count": null,
   "metadata": {},
   "outputs": [],
   "source": [
    "# Removing Outliers form Item_Outlet_Sales\n",
    "\n",
    "xdf = remove_outliers(xdf, \"Item_Outlet_Sales\")"
   ]
  },
  {
   "cell_type": "code",
   "execution_count": null,
   "metadata": {},
   "outputs": [],
   "source": [
    "# Quickly checking the result in boxplot\n",
    "\n",
    "plt.figure(figsize = (8,8))\n",
    "sns.boxplot(x = 'Item_Outlet_Sales', data = xdf);"
   ]
  },
  {
   "cell_type": "markdown",
   "metadata": {},
   "source": [
    "We will not be fixing skewness in our <b> target attribute </b> as it given incorrect <b> RMSE </b>"
   ]
  },
  {
   "cell_type": "code",
   "execution_count": null,
   "metadata": {},
   "outputs": [],
   "source": [
    "## Function for fixing positive skewness\n",
    "def sqrt_transformation(dataframe):\n",
    "    return np.sqrt(dataframe)"
   ]
  },
  {
   "cell_type": "code",
   "execution_count": null,
   "metadata": {},
   "outputs": [],
   "source": [
    "xdf['Item_Outlet_Sales'] = xdf['Item_Outlet_Sales'].map(sqrt_transformation)"
   ]
  },
  {
   "cell_type": "code",
   "execution_count": null,
   "metadata": {},
   "outputs": [],
   "source": [
    "# After fixing skewness\n",
    "\n",
    "plt.figure(figsize = (10,6))\n",
    "sns.histplot(data = xdf, x = 'Item_Outlet_Sales', kde = True);"
   ]
  },
  {
   "cell_type": "markdown",
   "metadata": {},
   "source": [
    "## Univariate Analysis (Independent Variables)"
   ]
  },
  {
   "cell_type": "code",
   "execution_count": null,
   "metadata": {},
   "outputs": [],
   "source": [
    "xxdf = xdf.copy()"
   ]
  },
  {
   "cell_type": "code",
   "execution_count": null,
   "metadata": {},
   "outputs": [],
   "source": [
    "numerical_df.columns"
   ]
  },
  {
   "cell_type": "code",
   "execution_count": null,
   "metadata": {
    "scrolled": true
   },
   "outputs": [],
   "source": [
    "for i in numerical_df:\n",
    "    sns.displot(data = xxdf, x = i, kde = True, aspect = 2, height = 6);\n",
    "    plt.xlabel(i, fontsize = 12)"
   ]
  },
  {
   "cell_type": "markdown",
   "metadata": {},
   "source": [
    "Let's take a note, which <b> feature </b> has skewed dataset."
   ]
  },
  {
   "cell_type": "code",
   "execution_count": null,
   "metadata": {},
   "outputs": [],
   "source": [
    "# Checking for outliers\n",
    "\n",
    "for i in numerical_df:\n",
    "    plt.figure(figsize =(8,6))\n",
    "    sns.scatterplot(data = xxdf, y = xdf.index, x = i);\n",
    "    plt.xlabel(i, fontsize = 12)"
   ]
  },
  {
   "cell_type": "markdown",
   "metadata": {},
   "source": [
    "Also, let's take a note which <b> Attribute </b> contains outliers."
   ]
  },
  {
   "cell_type": "code",
   "execution_count": null,
   "metadata": {},
   "outputs": [],
   "source": [
    "# Confirming the outliers\n",
    "\n",
    "for i in numerical_df:\n",
    "    plt.figure(figsize =(8,6))\n",
    "    sns.boxplot(data = xxdf, y = i);\n",
    "    plt.xlabel(i, fontsize = 12)"
   ]
  },
  {
   "cell_type": "markdown",
   "metadata": {},
   "source": [
    "<b> Observations: </b>\n",
    "\n",
    "Item_Visibility contains outliers, and as well as it is positively skewed on both the dastaset. Let's fix this."
   ]
  },
  {
   "cell_type": "code",
   "execution_count": null,
   "metadata": {},
   "outputs": [],
   "source": [
    "sns.displot(data = xxdf, x = 'Item_Visibility', kde = True, aspect = 2, height = 6);"
   ]
  },
  {
   "cell_type": "markdown",
   "metadata": {},
   "source": [
    "It contains a 0 value, let's fix that too."
   ]
  },
  {
   "cell_type": "code",
   "execution_count": null,
   "metadata": {},
   "outputs": [],
   "source": [
    "## First Removing strange '0'\n",
    "\n",
    "xxdf['Item_Visibility'].replace(0, xxdf['Item_Visibility'].median(), inplace = True)"
   ]
  },
  {
   "cell_type": "code",
   "execution_count": null,
   "metadata": {},
   "outputs": [],
   "source": [
    "# Treating Postive skewness\n",
    "\n",
    "xxdf['Item_Visibility'] = xxdf[\"Item_Visibility\"].map(sqrt_transformation)"
   ]
  },
  {
   "cell_type": "code",
   "execution_count": null,
   "metadata": {},
   "outputs": [],
   "source": [
    "# Removing Outliers\n",
    "\n",
    "xxdf = remove_outliers(xxdf, \"Item_Visibility\")"
   ]
  },
  {
   "cell_type": "code",
   "execution_count": null,
   "metadata": {
    "scrolled": true
   },
   "outputs": [],
   "source": [
    "# After remvoing skewness and fixing outliers on trainset\n",
    "\n",
    "sns.displot(x = 'Item_Visibility', data = xxdf, aspect = 2, height = 6, kde = True);"
   ]
  },
  {
   "cell_type": "markdown",
   "metadata": {},
   "source": [
    "### Bivariate Analysis\n",
    "\n",
    "First let's see the scatter plot of all the <b> Numerical variables</b> in term of <b> Item_Outlet_Sales </b>"
   ]
  },
  {
   "cell_type": "code",
   "execution_count": null,
   "metadata": {},
   "outputs": [],
   "source": [
    "for i in numerical_df:\n",
    "    plt.figure(figsize =(8,6))\n",
    "    sns.scatterplot(data = xxdf, x = i, y = xxdf['Item_Outlet_Sales']);\n",
    "    plt.xlabel(i, fontsize = 12)\n",
    "    plt.ylabel(\"Sales\")"
   ]
  },
  {
   "cell_type": "markdown",
   "metadata": {},
   "source": [
    "We observe, <b> Item_MRP </b> has linear relationship"
   ]
  },
  {
   "cell_type": "code",
   "execution_count": null,
   "metadata": {},
   "outputs": [],
   "source": [
    "bi_df = xxdf.copy()"
   ]
  },
  {
   "cell_type": "markdown",
   "metadata": {},
   "source": [
    "### Bivariate Analysis (Categorical)"
   ]
  },
  {
   "cell_type": "code",
   "execution_count": null,
   "metadata": {
    "scrolled": true
   },
   "outputs": [],
   "source": [
    "categorical_df.columns"
   ]
  },
  {
   "cell_type": "markdown",
   "metadata": {},
   "source": [
    "<b> Countplot"
   ]
  },
  {
   "cell_type": "code",
   "execution_count": null,
   "metadata": {},
   "outputs": [],
   "source": [
    "for i in categorical_df:\n",
    "    plt.figure(figsize = (10,8))\n",
    "    sns.countplot( y = i, data = bi_df);   "
   ]
  },
  {
   "cell_type": "markdown",
   "metadata": {},
   "source": [
    "<b> Observations: </b>\n",
    "\n",
    "- Item Identifier: There are lot of individual Item Identifiers.\n",
    "- Item_Fat_Content: We have multiple same values, let's fix it.\n",
    "- Fruits & Vegies, Frozen food, Dariy, Household and Snacks has highest number of counts.\n",
    "- Supermarket has higher number of counts.\n",
    "\n",
    "First let's fix, <b> Item_Fat_Content"
   ]
  },
  {
   "cell_type": "code",
   "execution_count": null,
   "metadata": {},
   "outputs": [],
   "source": [
    "bi_df['Item_Fat_Content'].unique()"
   ]
  },
  {
   "cell_type": "code",
   "execution_count": null,
   "metadata": {},
   "outputs": [],
   "source": [
    "bi_df['Item_Fat_Content'] = bi_df['Item_Fat_Content'].map({\"low fat\": \"Low Fat\",\n",
    "                                                           \"Low Fat\": \"Low Fat\",\n",
    "                                                         \"LF\":\"Low Fat\",\n",
    "                                                         \"Regular\":\"Regular\",\n",
    "                                                         \"reg\":\"Regular\"})"
   ]
  },
  {
   "cell_type": "code",
   "execution_count": null,
   "metadata": {},
   "outputs": [],
   "source": [
    "bi_df['Item_Fat_Content'].value_counts()"
   ]
  },
  {
   "cell_type": "markdown",
   "metadata": {},
   "source": [
    "<b> In term of Sales? </b>\n"
   ]
  },
  {
   "cell_type": "code",
   "execution_count": null,
   "metadata": {},
   "outputs": [],
   "source": [
    "for i in categorical_df:\n",
    "    plt.figure(figsize = (10,8))\n",
    "    sns.boxplot( y = i, x = bi_df['Item_Outlet_Sales'],data = bi_df);"
   ]
  },
  {
   "cell_type": "markdown",
   "metadata": {},
   "source": [
    "<b> Observations: </b>\n",
    "- In terms of 'Outlet_Type', Supermarket has highest demand (Type1 and Type3)\n",
    "- Starchy Food, Dairy, Fruits & Vegetables and Households has highest sales. But most of them all equal in terms of overall sales.\n"
   ]
  },
  {
   "cell_type": "markdown",
   "metadata": {},
   "source": [
    "## Skewness on Numbers"
   ]
  },
  {
   "cell_type": "code",
   "execution_count": null,
   "metadata": {},
   "outputs": [],
   "source": [
    "for i in numerical_df:\n",
    "    print(\"\\n\")\n",
    "    print(i)\n",
    "    print(\"-\" * 20)\n",
    "    print(\"Skewness: %f\" % bi_df[i].skew())\n",
    "    print(\"Kurtosis: %f\" % bi_df[i].kurt())\n",
    "    print(\"-\" * 20)"
   ]
  },
  {
   "cell_type": "code",
   "execution_count": null,
   "metadata": {},
   "outputs": [],
   "source": [
    "tf_df = bi_df.copy()"
   ]
  },
  {
   "cell_type": "markdown",
   "metadata": {},
   "source": [
    "## Dataset Transformation"
   ]
  },
  {
   "cell_type": "code",
   "execution_count": null,
   "metadata": {
    "scrolled": true
   },
   "outputs": [],
   "source": [
    "categorical_df.columns"
   ]
  },
  {
   "cell_type": "markdown",
   "metadata": {},
   "source": [
    "### Label Encoding \n",
    "\n",
    "Let's encode all the categorical values, and check the correlation of all the values with 'SalePrice'"
   ]
  },
  {
   "cell_type": "code",
   "execution_count": null,
   "metadata": {},
   "outputs": [],
   "source": [
    "from sklearn import preprocessing"
   ]
  },
  {
   "cell_type": "code",
   "execution_count": null,
   "metadata": {},
   "outputs": [],
   "source": [
    "label_encoder = preprocessing.LabelEncoder()"
   ]
  },
  {
   "cell_type": "code",
   "execution_count": null,
   "metadata": {},
   "outputs": [],
   "source": [
    "categorical_df = tf_df.select_dtypes(include = 'object')"
   ]
  },
  {
   "cell_type": "code",
   "execution_count": null,
   "metadata": {},
   "outputs": [],
   "source": [
    "label_df = tf_df.copy()\n",
    "for i in categorical_df:\n",
    "    label_df[i] = label_encoder.fit_transform(tf_df[i])"
   ]
  },
  {
   "cell_type": "markdown",
   "metadata": {},
   "source": [
    "## Correlation"
   ]
  },
  {
   "cell_type": "code",
   "execution_count": null,
   "metadata": {},
   "outputs": [],
   "source": [
    "corrmat =label_df.corr()\n",
    "f, ax = plt.subplots(figsize = (20,9))\n",
    "sns.heatmap(corrmat, vmax = .8, annot = True)"
   ]
  },
  {
   "cell_type": "markdown",
   "metadata": {},
   "source": [
    "### Dropping unrelated Columns"
   ]
  },
  {
   "cell_type": "code",
   "execution_count": null,
   "metadata": {},
   "outputs": [],
   "source": [
    "drop_columns = ['Item_Visibility','Outlet_Size','Outlet_Establishment_Year','Outlet_Type','Item_Weight','Item_Identifier']\n",
    "\n",
    "tf_df.drop(drop_columns, axis =1 , inplace = True) "
   ]
  },
  {
   "cell_type": "code",
   "execution_count": null,
   "metadata": {},
   "outputs": [],
   "source": [
    "tf_df"
   ]
  },
  {
   "cell_type": "markdown",
   "metadata": {},
   "source": [
    "### One Hot Encoding"
   ]
  },
  {
   "cell_type": "code",
   "execution_count": null,
   "metadata": {},
   "outputs": [],
   "source": [
    "tf_df = pd.get_dummies(tf_df)"
   ]
  },
  {
   "cell_type": "code",
   "execution_count": null,
   "metadata": {},
   "outputs": [],
   "source": [
    "tf_df"
   ]
  },
  {
   "cell_type": "markdown",
   "metadata": {},
   "source": [
    "### Preparing the Dataset"
   ]
  },
  {
   "cell_type": "code",
   "execution_count": null,
   "metadata": {},
   "outputs": [],
   "source": [
    "X = tf_df.drop(['Item_Outlet_Sales'], axis = 1)\n",
    "y = tf_df['Item_Outlet_Sales']"
   ]
  },
  {
   "cell_type": "markdown",
   "metadata": {},
   "source": [
    "### Scaling the Dataset"
   ]
  },
  {
   "cell_type": "code",
   "execution_count": null,
   "metadata": {},
   "outputs": [],
   "source": [
    "from sklearn.preprocessing import StandardScaler\n",
    "\n",
    "scaler = StandardScaler()\n",
    "\n",
    "X1 = scaler.fit_transform(X)\n",
    "X_train = pd.DataFrame(data = X1, columns = X.columns)"
   ]
  },
  {
   "cell_type": "code",
   "execution_count": null,
   "metadata": {
    "scrolled": true
   },
   "outputs": [],
   "source": [
    "X_train.head()"
   ]
  },
  {
   "cell_type": "markdown",
   "metadata": {},
   "source": [
    "### Splitting Dataset"
   ]
  },
  {
   "cell_type": "code",
   "execution_count": null,
   "metadata": {},
   "outputs": [],
   "source": [
    "from sklearn.model_selection import train_test_split\n",
    "X_train, X_test, y_train, y_test = train_test_split(X, y, test_size = 0.2, random_state = 101)\n",
    "\n",
    "X_train.shape, X_test.shape, y_train.shape, y_test.shape"
   ]
  },
  {
   "cell_type": "markdown",
   "metadata": {},
   "source": [
    "# Modeling and Evaluation Metrics"
   ]
  },
  {
   "cell_type": "markdown",
   "metadata": {},
   "source": [
    "### Linear Regression"
   ]
  },
  {
   "cell_type": "code",
   "execution_count": null,
   "metadata": {},
   "outputs": [],
   "source": [
    "from sklearn.linear_model import LinearRegression\n",
    "from sklearn.metrics import r2_score, mean_squared_error, mean_squared_log_error, make_scorer, mean_absolute_error\n",
    "import math\n",
    "\n",
    "\n",
    "lr = LinearRegression(normalize = True)\n",
    "lr.fit(X_train, y_train)"
   ]
  },
  {
   "cell_type": "code",
   "execution_count": null,
   "metadata": {},
   "outputs": [],
   "source": [
    "lr_predict = lr.predict(X_test)"
   ]
  },
  {
   "cell_type": "code",
   "execution_count": null,
   "metadata": {
    "scrolled": true
   },
   "outputs": [],
   "source": [
    "yp = lr.predict(X_test)\n",
    "print(\"R2 Score:\", r2_score(y_test, lr_predict))\n",
    "print(\"Mean Squarred Error:\", mean_squared_error(y_test, lr_predict))\n",
    "print(\"RMSE:\", math.sqrt(mean_squared_error(y_test, lr_predict)))\n",
    "print(\"Mean Absolute Error : \" + str(mean_absolute_error(y_test,lr_predict)))"
   ]
  },
  {
   "cell_type": "markdown",
   "metadata": {},
   "source": [
    "### XGBOOST REGRESSOR"
   ]
  },
  {
   "cell_type": "code",
   "execution_count": null,
   "metadata": {},
   "outputs": [],
   "source": [
    "from sklearn.model_selection import KFold, cross_val_score\n",
    "from xgboost import XGBRegressor\n",
    "\n",
    "xgb = XGBRegressor(n_estimators = 1000, learning_rate = 0.05)\n",
    "xgb.fit(X_train, y_train)\n",
    "\n",
    "predict = xgb.predict(X_test)\n"
   ]
  },
  {
   "cell_type": "code",
   "execution_count": null,
   "metadata": {},
   "outputs": [],
   "source": [
    "print(\"R2 Score:\", r2_score(y_test, predict))\n",
    "print(\"Mean Squarred Error:\", mean_squared_error(y_test, predict))\n",
    "print(\"RMSE:\", math.sqrt(mean_squared_error(y_test, predict)))\n",
    "print(\"Mean Absolute Error : \" + str(mean_absolute_error(y_test,predict)))"
   ]
  },
  {
   "cell_type": "markdown",
   "metadata": {},
   "source": [
    "### LASSO REGRSSOR"
   ]
  },
  {
   "cell_type": "code",
   "execution_count": null,
   "metadata": {},
   "outputs": [],
   "source": [
    "from sklearn.linear_model import Lasso"
   ]
  },
  {
   "cell_type": "code",
   "execution_count": null,
   "metadata": {},
   "outputs": [],
   "source": [
    "ls = Lasso(alpha = 0.01)\n",
    "ls.fit(X_train, y_train)"
   ]
  },
  {
   "cell_type": "code",
   "execution_count": null,
   "metadata": {},
   "outputs": [],
   "source": [
    "lasso_pred = ls.predict(X_test)"
   ]
  },
  {
   "cell_type": "code",
   "execution_count": null,
   "metadata": {},
   "outputs": [],
   "source": [
    "print(\"R2 Score:\", r2_score(y_test, lasso_pred))\n",
    "print(\"Mean Squarred Error:\", mean_squared_error(y_test, lasso_pred))\n",
    "print(\"RMSE:\", math.sqrt(mean_squared_error(y_test, lasso_pred)))\n",
    "print(\"Mean Absolute Error : \" + str(mean_absolute_error(y_test,lasso_pred)))"
   ]
  },
  {
   "cell_type": "markdown",
   "metadata": {},
   "source": [
    "### LGBMRegressor"
   ]
  },
  {
   "cell_type": "code",
   "execution_count": null,
   "metadata": {},
   "outputs": [],
   "source": [
    "from lightgbm import LGBMRegressor"
   ]
  },
  {
   "cell_type": "code",
   "execution_count": null,
   "metadata": {},
   "outputs": [],
   "source": [
    "lgbm = LGBMRegressor()"
   ]
  },
  {
   "cell_type": "code",
   "execution_count": null,
   "metadata": {},
   "outputs": [],
   "source": [
    "lgbm.fit(X_train, y_train)"
   ]
  },
  {
   "cell_type": "code",
   "execution_count": null,
   "metadata": {},
   "outputs": [],
   "source": [
    "lgbm_pred = lgbm.predict(X_test)"
   ]
  },
  {
   "cell_type": "code",
   "execution_count": null,
   "metadata": {},
   "outputs": [],
   "source": [
    "print(\"R2 Score:\", r2_score(y_test, lgbm_pred))\n",
    "print(\"Mean Squarred Error:\", mean_squared_error(y_test, lgbm_pred))\n",
    "print(\"RMSE:\", math.sqrt(mean_squared_error(y_test, lgbm_pred)))\n",
    "print(\"Mean Absolute Error : \" + str(mean_absolute_error(y_test,lgbm_pred)))"
   ]
  },
  {
   "cell_type": "markdown",
   "metadata": {},
   "source": [
    "### RandomForestRegressor"
   ]
  },
  {
   "cell_type": "code",
   "execution_count": null,
   "metadata": {},
   "outputs": [],
   "source": [
    "from sklearn.ensemble import RandomForestRegressor"
   ]
  },
  {
   "cell_type": "code",
   "execution_count": null,
   "metadata": {},
   "outputs": [],
   "source": [
    "rf = RandomForestRegressor(n_estimators = 50, max_depth = 15, random_state = 47, min_samples_leaf = 10)"
   ]
  },
  {
   "cell_type": "code",
   "execution_count": null,
   "metadata": {},
   "outputs": [],
   "source": [
    "rf.fit(X_train, y_train)"
   ]
  },
  {
   "cell_type": "code",
   "execution_count": null,
   "metadata": {},
   "outputs": [],
   "source": [
    "rf_pred = rf.predict(X_test)"
   ]
  },
  {
   "cell_type": "code",
   "execution_count": null,
   "metadata": {},
   "outputs": [],
   "source": [
    "print(\"R2 Score:\", r2_score(y_test, rf_pred))\n",
    "print(\"Mean Squarred Error:\", mean_squared_error(y_test, rf_pred))\n",
    "print(\"RMSE:\", math.sqrt(mean_squared_error(y_test, rf_pred)))\n",
    "print(\"Mean Absolute Error : \" + str(mean_absolute_error(y_test,rf_pred)))"
   ]
  },
  {
   "cell_type": "markdown",
   "metadata": {},
   "source": [
    "### DecisionTreeRegressor"
   ]
  },
  {
   "cell_type": "code",
   "execution_count": null,
   "metadata": {},
   "outputs": [],
   "source": [
    "from sklearn.tree import DecisionTreeRegressor\n",
    "from sklearn import metrics\n",
    "from sklearn.model_selection import GridSearchCV"
   ]
  },
  {
   "cell_type": "code",
   "execution_count": null,
   "metadata": {},
   "outputs": [],
   "source": [
    "dt = DecisionTreeRegressor()\n",
    "\n",
    "param_dist = {\n",
    "            'max_depth': [2,5,10,50,25,30,40,],\n",
    "}\n",
    "\n",
    "dt_gs = GridSearchCV(dt, param_grid = param_dist, cv = 6)\n",
    "dt_gs.fit(X_train, y_train)\n",
    "\n",
    "dt_predict = dt_gs.predict(X_test)"
   ]
  },
  {
   "cell_type": "code",
   "execution_count": null,
   "metadata": {},
   "outputs": [],
   "source": [
    "print(\"R2 Score:\", r2_score(y_test, dt_predict))\n",
    "print(\"Mean Squarred Error:\", mean_squared_error(y_test, dt_predict))\n",
    "print(\"RMSE:\", math.sqrt(mean_squared_error(y_test, dt_predict)))\n",
    "print(\"Mean Absolute Error : \" + str(mean_absolute_error(y_test,dt_predict)))"
   ]
  },
  {
   "cell_type": "code",
   "execution_count": null,
   "metadata": {},
   "outputs": [],
   "source": []
  }
 ],
 "metadata": {
  "kernelspec": {
   "display_name": "Python 3",
   "language": "python",
   "name": "python3"
  },
  "language_info": {
   "codemirror_mode": {
    "name": "ipython",
    "version": 3
   },
   "file_extension": ".py",
   "mimetype": "text/x-python",
   "name": "python",
   "nbconvert_exporter": "python",
   "pygments_lexer": "ipython3",
   "version": "3.7.4"
  }
 },
 "nbformat": 4,
 "nbformat_minor": 4
}
